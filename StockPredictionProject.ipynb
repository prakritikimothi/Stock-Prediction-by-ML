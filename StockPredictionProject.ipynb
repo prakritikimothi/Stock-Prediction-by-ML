{
 "cells": [
  {
   "cell_type": "code",
   "execution_count": 2,
   "id": "4eedfd1e",
   "metadata": {},
   "outputs": [
    {
     "name": "stdout",
     "output_type": "stream",
     "text": [
      "Collecting Quandl\n",
      "  Downloading Quandl-3.7.0-py2.py3-none-any.whl.metadata (1.3 kB)\n",
      "Requirement already satisfied: pandas>=0.14 in c:\\users\\dell\\anaconda3\\conda\\lib\\site-packages (from Quandl) (2.2.2)\n",
      "Requirement already satisfied: numpy>=1.8 in c:\\users\\dell\\anaconda3\\conda\\lib\\site-packages (from Quandl) (1.26.4)\n",
      "Requirement already satisfied: requests>=2.7.0 in c:\\users\\dell\\anaconda3\\conda\\lib\\site-packages (from Quandl) (2.32.2)\n",
      "Requirement already satisfied: inflection>=0.3.1 in c:\\users\\dell\\anaconda3\\conda\\lib\\site-packages (from Quandl) (0.5.1)\n",
      "Requirement already satisfied: python-dateutil in c:\\users\\dell\\anaconda3\\conda\\lib\\site-packages (from Quandl) (2.9.0.post0)\n",
      "Requirement already satisfied: six in c:\\users\\dell\\anaconda3\\conda\\lib\\site-packages (from Quandl) (1.16.0)\n",
      "Requirement already satisfied: more-itertools in c:\\users\\dell\\anaconda3\\conda\\lib\\site-packages (from Quandl) (10.1.0)\n",
      "Requirement already satisfied: pytz>=2020.1 in c:\\users\\dell\\anaconda3\\conda\\lib\\site-packages (from pandas>=0.14->Quandl) (2024.1)\n",
      "Requirement already satisfied: tzdata>=2022.7 in c:\\users\\dell\\anaconda3\\conda\\lib\\site-packages (from pandas>=0.14->Quandl) (2023.3)\n",
      "Requirement already satisfied: charset-normalizer<4,>=2 in c:\\users\\dell\\anaconda3\\conda\\lib\\site-packages (from requests>=2.7.0->Quandl) (2.0.4)\n",
      "Requirement already satisfied: idna<4,>=2.5 in c:\\users\\dell\\anaconda3\\conda\\lib\\site-packages (from requests>=2.7.0->Quandl) (3.7)\n",
      "Requirement already satisfied: urllib3<3,>=1.21.1 in c:\\users\\dell\\anaconda3\\conda\\lib\\site-packages (from requests>=2.7.0->Quandl) (2.2.2)\n",
      "Requirement already satisfied: certifi>=2017.4.17 in c:\\users\\dell\\anaconda3\\conda\\lib\\site-packages (from requests>=2.7.0->Quandl) (2024.7.4)\n",
      "Downloading Quandl-3.7.0-py2.py3-none-any.whl (26 kB)\n",
      "Installing collected packages: Quandl\n",
      "Successfully installed Quandl-3.7.0\n"
     ]
    }
   ],
   "source": [
    "#For Quandl installation in your kernel \n",
    "!pip install Quandl"
   ]
  },
  {
   "cell_type": "code",
   "execution_count": null,
   "id": "3db024eb-6992-40fc-a197-ad15f2e788bf",
   "metadata": {},
   "outputs": [],
   "source": []
  }
 ],
 "metadata": {
  "kernelspec": {
   "display_name": "Python 3 (ipykernel)",
   "language": "python",
   "name": "python3"
  },
  "language_info": {
   "codemirror_mode": {
    "name": "ipython",
    "version": 3
   },
   "file_extension": ".py",
   "mimetype": "text/x-python",
   "name": "python",
   "nbconvert_exporter": "python",
   "pygments_lexer": "ipython3",
   "version": "3.12.4"
  }
 },
 "nbformat": 4,
 "nbformat_minor": 5
}
